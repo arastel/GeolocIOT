{
 "cells": [
  {
   "cell_type": "code",
   "execution_count": 42,
   "metadata": {
    "collapsed": true
   },
   "outputs": [],
   "source": [
    "from sympy import Ellipse, Point, Rational\n",
    "import itertools\n",
    "from scipy.optimize import minimize"
   ]
  },
  {
   "cell_type": "code",
   "execution_count": 9,
   "metadata": {
    "collapsed": true
   },
   "outputs": [],
   "source": [
    "from sympy.solvers import solve\n",
    "from sympy import Symbol"
   ]
  },
  {
   "cell_type": "code",
   "execution_count": 1,
   "metadata": {
    "collapsed": true
   },
   "outputs": [],
   "source": [
    "def ellipse_base(b1, b2, rssi1, rssi2):\n",
    "    # ellipse de la forme X^2 + Y^2 + x_coeff*X + y_coeff*Y +  const_coeff = 0\n",
    "    # bi sont les coordonnées des bases i\n",
    "    x_coeff = (-2*rssi2/(rssi2-rssi1))*(b1[0]-b2[0]*rssi2/rssi1)\n",
    "    y_coeff = (-2*rssi2/(rssi2-rssi1))*(b1[1]-b2[1]*rssi2/rssi1)\n",
    "    const_coeff = ((b1[0]+b1[1])*rssi2 + (b2[0]+b2[1])*rssi1)/(rssi2-rssi1)\n",
    "    return [x_coeff, y_coeff, const_coeff]"
   ]
  },
  {
   "cell_type": "code",
   "execution_count": 3,
   "metadata": {
    "collapsed": true
   },
   "outputs": [],
   "source": [
    "def distance(ellipse, X):\n",
    "    # calcul de la plus petite distance entre le point X et l'ellipse d'equation type ellipse_base\n",
    "    # on utilisera le solveur pour obtenir le point de l'ellipse apres avoir dérivé le schoulblique\n",
    "    x1 = Symbol('x_1')\n",
    "    y1 = Symbol('y_1')\n",
    "    x2 = Symbol('x_2')\n",
    "    y2 = Symbol('y_2')\n",
    "    x1 = X[0]\n",
    "    y1 = X[1]\n",
    "    sol solve((diff((x2-x1)**2+(y2-y1)**2, x2) = 0, \n",
    "          x2**2 + y2**2 + ellipse[0]*x2 + ellipse[1]*y2 + ellipse[3] = 0), \n",
    "          x2, y2)\n",
    "    distance = (sol[x2]-x1)**2+(sol[y2]-y1)**2\n",
    "    return distance"
   ]
  },
  {
   "cell_type": "code",
   "execution_count": null,
   "metadata": {
    "collapsed": true
   },
   "outputs": [],
   "source": [
    "def list_3_ellipses(b, rssi):\n",
    "    # on entre en entree un vecteur \n",
    "    # on fait une liste contenant les 3 ellipse\n",
    "    liste_ellipses = []\n",
    "    for i, j in itertools.combinations(range(0,3)):\n",
    "        liste_ellipses += [ellipse_base(b[i], b[j], rssi[i], rssi[j])]\n",
    "    return liste_ellipses"
   ]
  },
  {
   "cell_type": "code",
   "execution_count": 43,
   "metadata": {
    "collapsed": true
   },
   "outputs": [],
   "source": [
    "def sum_disdances(X, liste_ellipses):\n",
    "    result = 0\n",
    "    for i in range(0,3):\n",
    "        result += distance(liste_ellipses[i], X)\n",
    "    return result"
   ]
  },
  {
   "cell_type": "code",
   "execution_count": 44,
   "metadata": {
    "collapsed": true
   },
   "outputs": [],
   "source": [
    "def get_coordinates(b1, b2, b3, rssi1, rssi2, rssi3):\n",
    "    b = [b1, b2, b3]\n",
    "    rssi = [rssi1, rssi2, rssi3]\n",
    "    liste_ellipses = list_3_ellipses(b, rssi)\n",
    "    X = optimize(sum_disdances, [1, 1], method='Nelder-Mead', \n",
    "                 args = (liste_ellipses), \n",
    "                 options={'xtol': 1e-5}).x\n",
    "    return X"
   ]
  },
  {
   "cell_type": "code",
   "execution_count": null,
   "metadata": {
    "collapsed": true
   },
   "outputs": [],
   "source": []
  }
 ],
 "metadata": {
  "kernelspec": {
   "display_name": "Python 3",
   "language": "python",
   "name": "python3"
  },
  "language_info": {
   "codemirror_mode": {
    "name": "ipython",
    "version": 3
   },
   "file_extension": ".py",
   "mimetype": "text/x-python",
   "name": "python",
   "nbconvert_exporter": "python",
   "pygments_lexer": "ipython3",
   "version": "3.6.1"
  }
 },
 "nbformat": 4,
 "nbformat_minor": 2
}
