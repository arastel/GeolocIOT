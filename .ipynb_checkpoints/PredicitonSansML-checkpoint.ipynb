{
 "cells": [
  {
   "cell_type": "code",
   "execution_count": 72,
   "metadata": {
    "collapsed": true
   },
   "outputs": [],
   "source": [
    "from sympy import Ellipse, Point, Rational\n",
    "import itertools\n",
    "from scipy.optimize import minimize\n",
    "from sympy.solvers import solve\n",
    "from sympy import *"
   ]
  },
  {
   "cell_type": "code",
   "execution_count": 73,
   "metadata": {
    "collapsed": true
   },
   "outputs": [],
   "source": [
    "def ellipse_base(b1, b2, rssi1, rssi2):\n",
    "    # ellipse de la forme X^2 + Y^2 + x_coeff*X + y_coeff*Y +  const_coeff = 0\n",
    "    # bi sont les coordonnées des bases i\n",
    "    x_coeff = (-2*rssi2/(rssi2-rssi1))*(b1[0]-b2[0]*rssi2/rssi1)\n",
    "    y_coeff = (-2*rssi2/(rssi2-rssi1))*(b1[1]-b2[1]*rssi2/rssi1)\n",
    "    const_coeff = ((b1[0]+b1[1])*rssi2 + (b2[0]+b2[1])*rssi1)/(rssi2-rssi1)\n",
    "    return [x_coeff, y_coeff, const_coeff]"
   ]
  },
  {
   "cell_type": "code",
   "execution_count": 84,
   "metadata": {},
   "outputs": [],
   "source": [
    "def distance(ellipse, X):\n",
    "    # calcul de la plus petite distance entre le point X et l'ellipse d'equation type ellipse_base\n",
    "    # on utilisera le solveur pour obtenir le point de l'ellipse apres avoir dérivé le schoulblique\n",
    "    x1 = Symbol('x_1')\n",
    "    y1 = Symbol('y_1')\n",
    "    x2 = Symbol('x_2')\n",
    "    y2 = Symbol('y_2')\n",
    "    x1 = X[0]\n",
    "    y1 = X[1]\n",
    "    sol = solve((diff((x2-x1)**2+(y2-y1)**2, x2), \n",
    "          x2**2 + y2**2 + ellipse[0]*x2 + ellipse[1]*y2 + ellipse[2]), \n",
    "          x2, y2)\n",
    "    distance = (sol[x2][0]-x1)**2+(sol[y2][0]-y1)**2\n",
    "    return distance"
   ]
  },
  {
   "cell_type": "code",
   "execution_count": 85,
   "metadata": {
    "collapsed": true
   },
   "outputs": [],
   "source": [
    "def list_3_ellipses(b, rssi):\n",
    "    # on entre en entree un vecteur \n",
    "    # on fait une liste contenant les 3 ellipse\n",
    "    liste_ellipses = []\n",
    "    for (i, j) in itertools.combinations(range(0,3), 2):\n",
    "        liste_ellipses += [ellipse_base(b[i], b[j], rssi[i], rssi[j])]\n",
    "    return liste_ellipses"
   ]
  },
  {
   "cell_type": "code",
   "execution_count": 86,
   "metadata": {
    "collapsed": true
   },
   "outputs": [],
   "source": [
    "def sum_disdances(X, liste_ellipses):\n",
    "    result = 0\n",
    "    for i in range(0,3):\n",
    "        result += distance(liste_ellipses[i], X)\n",
    "    return result"
   ]
  },
  {
   "cell_type": "code",
   "execution_count": 87,
   "metadata": {
    "collapsed": true
   },
   "outputs": [],
   "source": [
    "def get_coordinates(b1, b2, b3, rssi1, rssi2, rssi3):\n",
    "    b = [b1, b2, b3]\n",
    "    rssi = [rssi1, rssi2, rssi3]\n",
    "    liste_ellipses = list_3_ellipses(b, rssi)\n",
    "    X = minimize(sum_disdances, [1, 1], method='Nelder-Mead', \n",
    "                 args = (liste_ellipses), \n",
    "                 options={'xtol': 1e-5}).x\n",
    "    return X"
   ]
  },
  {
   "cell_type": "code",
   "execution_count": 91,
   "metadata": {},
   "outputs": [
    {
     "ename": "TypeError",
     "evalue": "list indices must be integers or slices, not Symbol",
     "output_type": "error",
     "traceback": [
      "\u001b[0;31m---------------------------------------------------------------------------\u001b[0m",
      "\u001b[0;31mTypeError\u001b[0m                                 Traceback (most recent call last)",
      "\u001b[0;32m<ipython-input-91-1da3077f879b>\u001b[0m in \u001b[0;36m<module>\u001b[0;34m()\u001b[0m\n\u001b[1;32m      6\u001b[0m \u001b[0mrssi3\u001b[0m \u001b[0;34m=\u001b[0m \u001b[0;34m-\u001b[0m\u001b[0;36m100\u001b[0m\u001b[0;34m\u001b[0m\u001b[0m\n\u001b[1;32m      7\u001b[0m \u001b[0;31m# get_coordinates(b1, b2, b3, rssi1, rssi2, rssi3)\u001b[0m\u001b[0;34m\u001b[0m\u001b[0;34m\u001b[0m\u001b[0m\n\u001b[0;32m----> 8\u001b[0;31m \u001b[0mdistance\u001b[0m\u001b[0;34m(\u001b[0m\u001b[0mellipse_base\u001b[0m\u001b[0;34m(\u001b[0m\u001b[0mb1\u001b[0m\u001b[0;34m,\u001b[0m \u001b[0mb2\u001b[0m\u001b[0;34m,\u001b[0m \u001b[0mrssi1\u001b[0m\u001b[0;34m,\u001b[0m  \u001b[0mrssi2\u001b[0m\u001b[0;34m)\u001b[0m\u001b[0;34m,\u001b[0m \u001b[0;34m[\u001b[0m\u001b[0;36m39.732045\u001b[0m\u001b[0;34m,\u001b[0m \u001b[0;34m-\u001b[0m\u001b[0;36m104.973651\u001b[0m\u001b[0;34m]\u001b[0m\u001b[0;34m)\u001b[0m\u001b[0;34m\u001b[0m\u001b[0m\n\u001b[0m",
      "\u001b[0;32m<ipython-input-84-651462df1b04>\u001b[0m in \u001b[0;36mdistance\u001b[0;34m(ellipse, X)\u001b[0m\n\u001b[1;32m     11\u001b[0m           x2**2 + y2**2 + ellipse[0]*x2 + ellipse[1]*y2 + ellipse[2]), \n\u001b[1;32m     12\u001b[0m           x2, y2)\n\u001b[0;32m---> 13\u001b[0;31m     \u001b[0mdistance\u001b[0m \u001b[0;34m=\u001b[0m \u001b[0;34m(\u001b[0m\u001b[0msol\u001b[0m\u001b[0;34m[\u001b[0m\u001b[0mx2\u001b[0m\u001b[0;34m]\u001b[0m\u001b[0;34m[\u001b[0m\u001b[0;36m0\u001b[0m\u001b[0;34m]\u001b[0m\u001b[0;34m-\u001b[0m\u001b[0mx1\u001b[0m\u001b[0;34m)\u001b[0m\u001b[0;34m**\u001b[0m\u001b[0;36m2\u001b[0m\u001b[0;34m+\u001b[0m\u001b[0;34m(\u001b[0m\u001b[0msol\u001b[0m\u001b[0;34m[\u001b[0m\u001b[0my2\u001b[0m\u001b[0;34m]\u001b[0m\u001b[0;34m[\u001b[0m\u001b[0;36m0\u001b[0m\u001b[0;34m]\u001b[0m\u001b[0;34m-\u001b[0m\u001b[0my1\u001b[0m\u001b[0;34m)\u001b[0m\u001b[0;34m**\u001b[0m\u001b[0;36m2\u001b[0m\u001b[0;34m\u001b[0m\u001b[0m\n\u001b[0m\u001b[1;32m     14\u001b[0m     \u001b[0;32mreturn\u001b[0m \u001b[0mdistance\u001b[0m\u001b[0;34m\u001b[0m\u001b[0m\n",
      "\u001b[0;31mTypeError\u001b[0m: list indices must be integers or slices, not Symbol"
     ]
    }
   ],
   "source": [
    "b1 = [39.797969, -105.073460]\n",
    "b2 = [39.723151, -104.956216]\n",
    "b3 = [39.732045, -104.973651]\n",
    "rssi1 = -132\n",
    "rssi2 = -120\n",
    "rssi3 = -100\n",
    "# get_coordinates(b1, b2, b3, rssi1, rssi2, rssi3)\n",
    "distance(ellipse_base(b1, b2, rssi1,  rssi2), [39.732045, -104.973651])"
   ]
  },
  {
   "cell_type": "code",
   "execution_count": 92,
   "metadata": {
    "collapsed": true
   },
   "outputs": [],
   "source": [
    "x1 = Symbol('x_1')\n",
    "y1 = Symbol('y_1')\n",
    "x2 = Symbol('x_2')\n",
    "y2 = Symbol('y_2')\n",
    "sol = solve((x1 +3, x2 - x1 +2), x1, x2)"
   ]
  },
  {
   "cell_type": "code",
   "execution_count": null,
   "metadata": {
    "collapsed": true
   },
   "outputs": [],
   "source": []
  }
 ],
 "metadata": {
  "kernelspec": {
   "display_name": "Python 3",
   "language": "python",
   "name": "python3"
  },
  "language_info": {
   "codemirror_mode": {
    "name": "ipython",
    "version": 3
   },
   "file_extension": ".py",
   "mimetype": "text/x-python",
   "name": "python",
   "nbconvert_exporter": "python",
   "pygments_lexer": "ipython3",
   "version": "3.6.1"
  }
 },
 "nbformat": 4,
 "nbformat_minor": 2
}
