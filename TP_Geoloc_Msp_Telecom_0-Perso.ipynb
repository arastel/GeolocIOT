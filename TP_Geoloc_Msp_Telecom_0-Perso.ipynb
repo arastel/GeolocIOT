{
 "cells": [
  {
   "cell_type": "code",
   "execution_count": 3,
   "metadata": {},
   "outputs": [],
   "source": [
    "%matplotlib inline\n",
    "import numpy as np\n",
    "import pandas as pd\n",
    "import matplotlib.pyplot as plt\n",
    "import math\n",
    "from geopy.distance import vincenty\n",
    "from sklearn.linear_model import LinearRegression"
   ]
  },
  {
   "cell_type": "code",
   "execution_count": 4,
   "metadata": {
    "collapsed": true
   },
   "outputs": [],
   "source": [
    "# load train and test data\n",
    "df_mess_train = pd.read_csv('mess_train_list.csv') # train set\n",
    "df_mess_test = pd.read_csv('mess_test_list.csv') # test set\n",
    "pos_train = pd.read_csv('pos_train_list.csv') # position associated to train set"
   ]
  },
  {
   "cell_type": "code",
   "execution_count": 5,
   "metadata": {},
   "outputs": [
    {
     "data": {
      "text/html": [
       "<div>\n",
       "<style>\n",
       "    .dataframe thead tr:only-child th {\n",
       "        text-align: right;\n",
       "    }\n",
       "\n",
       "    .dataframe thead th {\n",
       "        text-align: left;\n",
       "    }\n",
       "\n",
       "    .dataframe tbody tr th {\n",
       "        vertical-align: top;\n",
       "    }\n",
       "</style>\n",
       "<table border=\"1\" class=\"dataframe\">\n",
       "  <thead>\n",
       "    <tr style=\"text-align: right;\">\n",
       "      <th></th>\n",
       "      <th>objid</th>\n",
       "      <th>bsid</th>\n",
       "      <th>did</th>\n",
       "      <th>nseq</th>\n",
       "      <th>rssi</th>\n",
       "      <th>time_ux</th>\n",
       "      <th>bs_lat</th>\n",
       "      <th>bs_lng</th>\n",
       "    </tr>\n",
       "  </thead>\n",
       "  <tbody>\n",
       "    <tr>\n",
       "      <th>3</th>\n",
       "      <td>573c0cd0f0fe6e735a699b93</td>\n",
       "      <td>2610</td>\n",
       "      <td>473953.0</td>\n",
       "      <td>2.0</td>\n",
       "      <td>-132.0</td>\n",
       "      <td>1.463553e+12</td>\n",
       "      <td>39.797969</td>\n",
       "      <td>-105.073460</td>\n",
       "    </tr>\n",
       "    <tr>\n",
       "      <th>4</th>\n",
       "      <td>573c0cd0f0fe6e735a699b93</td>\n",
       "      <td>3574</td>\n",
       "      <td>473953.0</td>\n",
       "      <td>1.0</td>\n",
       "      <td>-120.0</td>\n",
       "      <td>1.463553e+12</td>\n",
       "      <td>39.723151</td>\n",
       "      <td>-104.956216</td>\n",
       "    </tr>\n",
       "    <tr>\n",
       "      <th>5</th>\n",
       "      <td>573c0cd0f0fe6e735a699b93</td>\n",
       "      <td>8474</td>\n",
       "      <td>473953.0</td>\n",
       "      <td>2.0</td>\n",
       "      <td>-100.0</td>\n",
       "      <td>1.463553e+12</td>\n",
       "      <td>39.732045</td>\n",
       "      <td>-104.973651</td>\n",
       "    </tr>\n",
       "  </tbody>\n",
       "</table>\n",
       "</div>"
      ],
      "text/plain": [
       "                      objid  bsid       did  nseq   rssi       time_ux  \\\n",
       "3  573c0cd0f0fe6e735a699b93  2610  473953.0   2.0 -132.0  1.463553e+12   \n",
       "4  573c0cd0f0fe6e735a699b93  3574  473953.0   1.0 -120.0  1.463553e+12   \n",
       "5  573c0cd0f0fe6e735a699b93  8474  473953.0   2.0 -100.0  1.463553e+12   \n",
       "\n",
       "      bs_lat      bs_lng  \n",
       "3  39.797969 -105.073460  \n",
       "4  39.723151 -104.956216  \n",
       "5  39.732045 -104.973651  "
      ]
     },
     "execution_count": 5,
     "metadata": {},
     "output_type": "execute_result"
    }
   ],
   "source": [
    "df_mess_train.loc[df_mess_train['objid'] == '573c0cd0f0fe6e735a699b93']"
   ]
  },
  {
   "cell_type": "code",
   "execution_count": 4,
   "metadata": {},
   "outputs": [
    {
     "data": {
      "text/html": [
       "<div>\n",
       "<style scoped>\n",
       "    .dataframe tbody tr th:only-of-type {\n",
       "        vertical-align: middle;\n",
       "    }\n",
       "\n",
       "    .dataframe tbody tr th {\n",
       "        vertical-align: top;\n",
       "    }\n",
       "\n",
       "    .dataframe thead th {\n",
       "        text-align: right;\n",
       "    }\n",
       "</style>\n",
       "<table border=\"1\" class=\"dataframe\">\n",
       "  <thead>\n",
       "    <tr style=\"text-align: right;\">\n",
       "      <th></th>\n",
       "      <th>bsid</th>\n",
       "      <th>did</th>\n",
       "      <th>nseq</th>\n",
       "      <th>rssi</th>\n",
       "      <th>time_ux</th>\n",
       "      <th>bs_lat</th>\n",
       "      <th>bs_lng</th>\n",
       "    </tr>\n",
       "  </thead>\n",
       "  <tbody>\n",
       "    <tr>\n",
       "      <th>count</th>\n",
       "      <td>39250.000000</td>\n",
       "      <td>3.925000e+04</td>\n",
       "      <td>39250.000000</td>\n",
       "      <td>39250.000000</td>\n",
       "      <td>3.925000e+04</td>\n",
       "      <td>39250.000000</td>\n",
       "      <td>39250.000000</td>\n",
       "    </tr>\n",
       "    <tr>\n",
       "      <th>mean</th>\n",
       "      <td>4533.774752</td>\n",
       "      <td>4.835932e+05</td>\n",
       "      <td>1.043541</td>\n",
       "      <td>-125.863580</td>\n",
       "      <td>1.473368e+12</td>\n",
       "      <td>42.554998</td>\n",
       "      <td>-100.969685</td>\n",
       "    </tr>\n",
       "    <tr>\n",
       "      <th>std</th>\n",
       "      <td>2570.495638</td>\n",
       "      <td>9.893140e+04</td>\n",
       "      <td>0.563540</td>\n",
       "      <td>9.226500</td>\n",
       "      <td>5.506910e+09</td>\n",
       "      <td>7.722787</td>\n",
       "      <td>11.522732</td>\n",
       "    </tr>\n",
       "    <tr>\n",
       "      <th>min</th>\n",
       "      <td>879.000000</td>\n",
       "      <td>4.732880e+05</td>\n",
       "      <td>0.000000</td>\n",
       "      <td>-155.000000</td>\n",
       "      <td>1.463546e+12</td>\n",
       "      <td>36.053394</td>\n",
       "      <td>-107.463146</td>\n",
       "    </tr>\n",
       "    <tr>\n",
       "      <th>25%</th>\n",
       "      <td>2790.000000</td>\n",
       "      <td>4.761230e+05</td>\n",
       "      <td>1.000000</td>\n",
       "      <td>-132.500000</td>\n",
       "      <td>1.468410e+12</td>\n",
       "      <td>39.747448</td>\n",
       "      <td>-105.074287</td>\n",
       "    </tr>\n",
       "    <tr>\n",
       "      <th>50%</th>\n",
       "      <td>3559.000000</td>\n",
       "      <td>4.763150e+05</td>\n",
       "      <td>1.000000</td>\n",
       "      <td>-127.333333</td>\n",
       "      <td>1.473444e+12</td>\n",
       "      <td>39.793585</td>\n",
       "      <td>-105.043685</td>\n",
       "    </tr>\n",
       "    <tr>\n",
       "      <th>75%</th>\n",
       "      <td>7456.000000</td>\n",
       "      <td>4.766090e+05</td>\n",
       "      <td>1.500000</td>\n",
       "      <td>-121.000000</td>\n",
       "      <td>1.479118e+12</td>\n",
       "      <td>39.838740</td>\n",
       "      <td>-104.998429</td>\n",
       "    </tr>\n",
       "    <tr>\n",
       "      <th>max</th>\n",
       "      <td>11951.000000</td>\n",
       "      <td>1.747448e+06</td>\n",
       "      <td>2.000000</td>\n",
       "      <td>-64.000000</td>\n",
       "      <td>1.481143e+12</td>\n",
       "      <td>64.300000</td>\n",
       "      <td>-68.500000</td>\n",
       "    </tr>\n",
       "  </tbody>\n",
       "</table>\n",
       "</div>"
      ],
      "text/plain": [
       "               bsid           did          nseq          rssi       time_ux  \\\n",
       "count  39250.000000  3.925000e+04  39250.000000  39250.000000  3.925000e+04   \n",
       "mean    4533.774752  4.835932e+05      1.043541   -125.863580  1.473368e+12   \n",
       "std     2570.495638  9.893140e+04      0.563540      9.226500  5.506910e+09   \n",
       "min      879.000000  4.732880e+05      0.000000   -155.000000  1.463546e+12   \n",
       "25%     2790.000000  4.761230e+05      1.000000   -132.500000  1.468410e+12   \n",
       "50%     3559.000000  4.763150e+05      1.000000   -127.333333  1.473444e+12   \n",
       "75%     7456.000000  4.766090e+05      1.500000   -121.000000  1.479118e+12   \n",
       "max    11951.000000  1.747448e+06      2.000000    -64.000000  1.481143e+12   \n",
       "\n",
       "             bs_lat        bs_lng  \n",
       "count  39250.000000  39250.000000  \n",
       "mean      42.554998   -100.969685  \n",
       "std        7.722787     11.522732  \n",
       "min       36.053394   -107.463146  \n",
       "25%       39.747448   -105.074287  \n",
       "50%       39.793585   -105.043685  \n",
       "75%       39.838740   -104.998429  \n",
       "max       64.300000    -68.500000  "
      ]
     },
     "execution_count": 4,
     "metadata": {},
     "output_type": "execute_result"
    }
   ],
   "source": [
    "df_mess_train.describe()"
   ]
  },
  {
   "cell_type": "code",
   "execution_count": 5,
   "metadata": {},
   "outputs": [
    {
     "data": {
      "text/html": [
       "<div>\n",
       "<style scoped>\n",
       "    .dataframe tbody tr th:only-of-type {\n",
       "        vertical-align: middle;\n",
       "    }\n",
       "\n",
       "    .dataframe tbody tr th {\n",
       "        vertical-align: top;\n",
       "    }\n",
       "\n",
       "    .dataframe thead th {\n",
       "        text-align: right;\n",
       "    }\n",
       "</style>\n",
       "<table border=\"1\" class=\"dataframe\">\n",
       "  <thead>\n",
       "    <tr style=\"text-align: right;\">\n",
       "      <th></th>\n",
       "      <th>lat</th>\n",
       "      <th>lng</th>\n",
       "    </tr>\n",
       "  </thead>\n",
       "  <tbody>\n",
       "    <tr>\n",
       "      <th>0</th>\n",
       "      <td>39.606690</td>\n",
       "      <td>-104.958490</td>\n",
       "    </tr>\n",
       "    <tr>\n",
       "      <th>1</th>\n",
       "      <td>39.606690</td>\n",
       "      <td>-104.958490</td>\n",
       "    </tr>\n",
       "    <tr>\n",
       "      <th>2</th>\n",
       "      <td>39.637741</td>\n",
       "      <td>-104.958554</td>\n",
       "    </tr>\n",
       "    <tr>\n",
       "      <th>3</th>\n",
       "      <td>39.730417</td>\n",
       "      <td>-104.968940</td>\n",
       "    </tr>\n",
       "    <tr>\n",
       "      <th>4</th>\n",
       "      <td>39.730417</td>\n",
       "      <td>-104.968940</td>\n",
       "    </tr>\n",
       "  </tbody>\n",
       "</table>\n",
       "</div>"
      ],
      "text/plain": [
       "         lat         lng\n",
       "0  39.606690 -104.958490\n",
       "1  39.606690 -104.958490\n",
       "2  39.637741 -104.958554\n",
       "3  39.730417 -104.968940\n",
       "4  39.730417 -104.968940"
      ]
     },
     "execution_count": 5,
     "metadata": {},
     "output_type": "execute_result"
    }
   ],
   "source": [
    "pos_train.head()"
   ]
  },
  {
   "cell_type": "code",
   "execution_count": 6,
   "metadata": {},
   "outputs": [
    {
     "data": {
      "text/html": [
       "<div>\n",
       "<style scoped>\n",
       "    .dataframe tbody tr th:only-of-type {\n",
       "        vertical-align: middle;\n",
       "    }\n",
       "\n",
       "    .dataframe tbody tr th {\n",
       "        vertical-align: top;\n",
       "    }\n",
       "\n",
       "    .dataframe thead th {\n",
       "        text-align: right;\n",
       "    }\n",
       "</style>\n",
       "<table border=\"1\" class=\"dataframe\">\n",
       "  <thead>\n",
       "    <tr style=\"text-align: right;\">\n",
       "      <th></th>\n",
       "      <th>lat</th>\n",
       "      <th>lng</th>\n",
       "    </tr>\n",
       "  </thead>\n",
       "  <tbody>\n",
       "    <tr>\n",
       "      <th>count</th>\n",
       "      <td>39250.000000</td>\n",
       "      <td>39250.000000</td>\n",
       "    </tr>\n",
       "    <tr>\n",
       "      <th>mean</th>\n",
       "      <td>39.783333</td>\n",
       "      <td>-105.056343</td>\n",
       "    </tr>\n",
       "    <tr>\n",
       "      <th>std</th>\n",
       "      <td>0.206262</td>\n",
       "      <td>0.162954</td>\n",
       "    </tr>\n",
       "    <tr>\n",
       "      <th>min</th>\n",
       "      <td>35.770683</td>\n",
       "      <td>-107.630679</td>\n",
       "    </tr>\n",
       "    <tr>\n",
       "      <th>25%</th>\n",
       "      <td>39.708599</td>\n",
       "      <td>-105.060463</td>\n",
       "    </tr>\n",
       "    <tr>\n",
       "      <th>50%</th>\n",
       "      <td>39.776882</td>\n",
       "      <td>-105.039440</td>\n",
       "    </tr>\n",
       "    <tr>\n",
       "      <th>75%</th>\n",
       "      <td>39.805279</td>\n",
       "      <td>-105.018730</td>\n",
       "    </tr>\n",
       "    <tr>\n",
       "      <th>max</th>\n",
       "      <td>43.140387</td>\n",
       "      <td>-102.094289</td>\n",
       "    </tr>\n",
       "  </tbody>\n",
       "</table>\n",
       "</div>"
      ],
      "text/plain": [
       "                lat           lng\n",
       "count  39250.000000  39250.000000\n",
       "mean      39.783333   -105.056343\n",
       "std        0.206262      0.162954\n",
       "min       35.770683   -107.630679\n",
       "25%       39.708599   -105.060463\n",
       "50%       39.776882   -105.039440\n",
       "75%       39.805279   -105.018730\n",
       "max       43.140387   -102.094289"
      ]
     },
     "execution_count": 6,
     "metadata": {},
     "output_type": "execute_result"
    }
   ],
   "source": [
    "pos_train.describe()"
   ]
  },
  {
   "cell_type": "code",
   "execution_count": 7,
   "metadata": {
    "collapsed": true
   },
   "outputs": [],
   "source": [
    "listOfBs = np.union1d(np.unique(df_mess_train['bsid']), np.unique(df_mess_test['bsid'])) # determine all Base stations that received at least 1 message"
   ]
  },
  {
   "cell_type": "code",
   "execution_count": 10,
   "metadata": {
    "collapsed": true
   },
   "outputs": [],
   "source": [
    "# Feature Matrix construction \n",
    "\n",
    "def feat_mat_const(df_mess_train, listOfBs):\n",
    "\n",
    "    df_feat = df_mess_train.pivot_table(values='rssi', index='objid', columns='bsid', \n",
    "                         aggfunc=lambda x: min(x))\n",
    "    return df_feat"
   ]
  },
  {
   "cell_type": "code",
   "execution_count": 11,
   "metadata": {
    "collapsed": true
   },
   "outputs": [],
   "source": [
    "df_feat = feat_mat_const(df_mess_train, listOfBs)"
   ]
  },
  {
   "cell_type": "code",
   "execution_count": 52,
   "metadata": {
    "collapsed": true
   },
   "outputs": [],
   "source": [
    "# ground truth construction\n",
    "\n",
    "def ground_truth_const(df_mess_train, pos_train):\n",
    "    new_pos = pos_train.set_index(df_mess_train.objid)\n",
    "    new_pos = new_pos.groupby(new_pos.index).first()\n",
    "    ground_truth_lat = new_pos.lat\n",
    "    ground_truth_lng = new_pos.lng\n",
    "    return ground_truth_lat, ground_truth_lng"
   ]
  },
  {
   "cell_type": "code",
   "execution_count": 53,
   "metadata": {},
   "outputs": [
    {
     "data": {
      "text/html": [
       "<div>\n",
       "<style scoped>\n",
       "    .dataframe tbody tr th:only-of-type {\n",
       "        vertical-align: middle;\n",
       "    }\n",
       "\n",
       "    .dataframe tbody tr th {\n",
       "        vertical-align: top;\n",
       "    }\n",
       "\n",
       "    .dataframe thead th {\n",
       "        text-align: right;\n",
       "    }\n",
       "</style>\n",
       "<table border=\"1\" class=\"dataframe\">\n",
       "  <thead>\n",
       "    <tr style=\"text-align: right;\">\n",
       "      <th>bsid</th>\n",
       "      <th>879</th>\n",
       "      <th>911</th>\n",
       "      <th>921</th>\n",
       "      <th>944</th>\n",
       "      <th>980</th>\n",
       "      <th>1012</th>\n",
       "      <th>1086</th>\n",
       "      <th>1092</th>\n",
       "      <th>1120</th>\n",
       "      <th>1148</th>\n",
       "      <th>...</th>\n",
       "      <th>8747</th>\n",
       "      <th>9784</th>\n",
       "      <th>9899</th>\n",
       "      <th>10134</th>\n",
       "      <th>10148</th>\n",
       "      <th>10151</th>\n",
       "      <th>10162</th>\n",
       "      <th>10999</th>\n",
       "      <th>11007</th>\n",
       "      <th>11951</th>\n",
       "    </tr>\n",
       "    <tr>\n",
       "      <th>objid</th>\n",
       "      <th></th>\n",
       "      <th></th>\n",
       "      <th></th>\n",
       "      <th></th>\n",
       "      <th></th>\n",
       "      <th></th>\n",
       "      <th></th>\n",
       "      <th></th>\n",
       "      <th></th>\n",
       "      <th></th>\n",
       "      <th></th>\n",
       "      <th></th>\n",
       "      <th></th>\n",
       "      <th></th>\n",
       "      <th></th>\n",
       "      <th></th>\n",
       "      <th></th>\n",
       "      <th></th>\n",
       "      <th></th>\n",
       "      <th></th>\n",
       "      <th></th>\n",
       "    </tr>\n",
       "  </thead>\n",
       "  <tbody>\n",
       "    <tr>\n",
       "      <th>573bf1d9864fce1a9af8c5c9</th>\n",
       "      <td>NaN</td>\n",
       "      <td>NaN</td>\n",
       "      <td>NaN</td>\n",
       "      <td>NaN</td>\n",
       "      <td>NaN</td>\n",
       "      <td>NaN</td>\n",
       "      <td>NaN</td>\n",
       "      <td>NaN</td>\n",
       "      <td>NaN</td>\n",
       "      <td>NaN</td>\n",
       "      <td>...</td>\n",
       "      <td>NaN</td>\n",
       "      <td>NaN</td>\n",
       "      <td>NaN</td>\n",
       "      <td>NaN</td>\n",
       "      <td>NaN</td>\n",
       "      <td>NaN</td>\n",
       "      <td>NaN</td>\n",
       "      <td>NaN</td>\n",
       "      <td>NaN</td>\n",
       "      <td>NaN</td>\n",
       "    </tr>\n",
       "    <tr>\n",
       "      <th>573bf3533e952e19126b256a</th>\n",
       "      <td>NaN</td>\n",
       "      <td>NaN</td>\n",
       "      <td>NaN</td>\n",
       "      <td>NaN</td>\n",
       "      <td>NaN</td>\n",
       "      <td>NaN</td>\n",
       "      <td>NaN</td>\n",
       "      <td>NaN</td>\n",
       "      <td>NaN</td>\n",
       "      <td>NaN</td>\n",
       "      <td>...</td>\n",
       "      <td>NaN</td>\n",
       "      <td>NaN</td>\n",
       "      <td>NaN</td>\n",
       "      <td>NaN</td>\n",
       "      <td>NaN</td>\n",
       "      <td>NaN</td>\n",
       "      <td>NaN</td>\n",
       "      <td>NaN</td>\n",
       "      <td>NaN</td>\n",
       "      <td>NaN</td>\n",
       "    </tr>\n",
       "    <tr>\n",
       "      <th>573c0cd0f0fe6e735a699b93</th>\n",
       "      <td>NaN</td>\n",
       "      <td>NaN</td>\n",
       "      <td>NaN</td>\n",
       "      <td>NaN</td>\n",
       "      <td>NaN</td>\n",
       "      <td>NaN</td>\n",
       "      <td>NaN</td>\n",
       "      <td>NaN</td>\n",
       "      <td>NaN</td>\n",
       "      <td>NaN</td>\n",
       "      <td>...</td>\n",
       "      <td>NaN</td>\n",
       "      <td>NaN</td>\n",
       "      <td>NaN</td>\n",
       "      <td>NaN</td>\n",
       "      <td>NaN</td>\n",
       "      <td>NaN</td>\n",
       "      <td>NaN</td>\n",
       "      <td>NaN</td>\n",
       "      <td>NaN</td>\n",
       "      <td>NaN</td>\n",
       "    </tr>\n",
       "    <tr>\n",
       "      <th>573c1272f0fe6e735a6cb8bd</th>\n",
       "      <td>NaN</td>\n",
       "      <td>NaN</td>\n",
       "      <td>NaN</td>\n",
       "      <td>NaN</td>\n",
       "      <td>NaN</td>\n",
       "      <td>NaN</td>\n",
       "      <td>NaN</td>\n",
       "      <td>NaN</td>\n",
       "      <td>NaN</td>\n",
       "      <td>NaN</td>\n",
       "      <td>...</td>\n",
       "      <td>NaN</td>\n",
       "      <td>NaN</td>\n",
       "      <td>NaN</td>\n",
       "      <td>NaN</td>\n",
       "      <td>NaN</td>\n",
       "      <td>NaN</td>\n",
       "      <td>NaN</td>\n",
       "      <td>NaN</td>\n",
       "      <td>NaN</td>\n",
       "      <td>NaN</td>\n",
       "    </tr>\n",
       "    <tr>\n",
       "      <th>573c8ea8864fce1a9a5fbf7a</th>\n",
       "      <td>NaN</td>\n",
       "      <td>NaN</td>\n",
       "      <td>NaN</td>\n",
       "      <td>NaN</td>\n",
       "      <td>NaN</td>\n",
       "      <td>NaN</td>\n",
       "      <td>-141.0</td>\n",
       "      <td>NaN</td>\n",
       "      <td>NaN</td>\n",
       "      <td>NaN</td>\n",
       "      <td>...</td>\n",
       "      <td>NaN</td>\n",
       "      <td>NaN</td>\n",
       "      <td>-129.0</td>\n",
       "      <td>NaN</td>\n",
       "      <td>NaN</td>\n",
       "      <td>NaN</td>\n",
       "      <td>NaN</td>\n",
       "      <td>NaN</td>\n",
       "      <td>NaN</td>\n",
       "      <td>NaN</td>\n",
       "    </tr>\n",
       "  </tbody>\n",
       "</table>\n",
       "<p>5 rows × 251 columns</p>\n",
       "</div>"
      ],
      "text/plain": [
       "bsid                      879    911    921    944    980    1012   1086   \\\n",
       "objid                                                                       \n",
       "573bf1d9864fce1a9af8c5c9    NaN    NaN    NaN    NaN    NaN    NaN    NaN   \n",
       "573bf3533e952e19126b256a    NaN    NaN    NaN    NaN    NaN    NaN    NaN   \n",
       "573c0cd0f0fe6e735a699b93    NaN    NaN    NaN    NaN    NaN    NaN    NaN   \n",
       "573c1272f0fe6e735a6cb8bd    NaN    NaN    NaN    NaN    NaN    NaN    NaN   \n",
       "573c8ea8864fce1a9a5fbf7a    NaN    NaN    NaN    NaN    NaN    NaN -141.0   \n",
       "\n",
       "bsid                      1092   1120   1148   ...    8747   9784   9899   \\\n",
       "objid                                          ...                          \n",
       "573bf1d9864fce1a9af8c5c9    NaN    NaN    NaN  ...      NaN    NaN    NaN   \n",
       "573bf3533e952e19126b256a    NaN    NaN    NaN  ...      NaN    NaN    NaN   \n",
       "573c0cd0f0fe6e735a699b93    NaN    NaN    NaN  ...      NaN    NaN    NaN   \n",
       "573c1272f0fe6e735a6cb8bd    NaN    NaN    NaN  ...      NaN    NaN    NaN   \n",
       "573c8ea8864fce1a9a5fbf7a    NaN    NaN    NaN  ...      NaN    NaN -129.0   \n",
       "\n",
       "bsid                      10134  10148  10151  10162  10999  11007  11951  \n",
       "objid                                                                      \n",
       "573bf1d9864fce1a9af8c5c9    NaN    NaN    NaN    NaN    NaN    NaN    NaN  \n",
       "573bf3533e952e19126b256a    NaN    NaN    NaN    NaN    NaN    NaN    NaN  \n",
       "573c0cd0f0fe6e735a699b93    NaN    NaN    NaN    NaN    NaN    NaN    NaN  \n",
       "573c1272f0fe6e735a6cb8bd    NaN    NaN    NaN    NaN    NaN    NaN    NaN  \n",
       "573c8ea8864fce1a9a5fbf7a    NaN    NaN    NaN    NaN    NaN    NaN    NaN  \n",
       "\n",
       "[5 rows x 251 columns]"
      ]
     },
     "execution_count": 53,
     "metadata": {},
     "output_type": "execute_result"
    }
   ],
   "source": [
    "df_feat = feat_mat_const(df_mess_train, listOfBs)\n",
    "df_feat.head()"
   ]
  },
  {
   "cell_type": "code",
   "execution_count": 54,
   "metadata": {},
   "outputs": [
    {
     "data": {
      "text/plain": [
       "(6068,)"
      ]
     },
     "execution_count": 54,
     "metadata": {},
     "output_type": "execute_result"
    }
   ],
   "source": [
    "ground_truth_lat, ground_truth_lng = ground_truth_const(df_mess_train, pos_train)\n",
    "ground_truth_lat.shape"
   ]
  },
  {
   "cell_type": "code",
   "execution_count": 48,
   "metadata": {},
   "outputs": [
    {
     "data": {
      "text/plain": [
       "(6068, 251)"
      ]
     },
     "execution_count": 48,
     "metadata": {},
     "output_type": "execute_result"
    }
   ],
   "source": [
    "df_feat.shape"
   ]
  },
  {
   "cell_type": "code",
   "execution_count": 69,
   "metadata": {},
   "outputs": [
    {
     "data": {
      "text/plain": [
       "array([[   0.,    0.,    0., ...,    0., -120.,    0.],\n",
       "       [   0.,    0.,    0., ...,    0., -124.,    0.],\n",
       "       [   0.,    0.,    0., ...,    0.,    0.,    0.],\n",
       "       ..., \n",
       "       [   0.,    0.,    0., ...,    0., -121.,    0.],\n",
       "       [   0.,    0.,    0., ...,    0.,    0.,    0.],\n",
       "       [   0.,    0.,    0., ...,    0.,    0.,    0.]])"
      ]
     },
     "execution_count": 69,
     "metadata": {},
     "output_type": "execute_result"
    }
   ],
   "source": [
    "np.array(df_feat.iloc[3034:,].replace(np.nan, 0))"
   ]
  },
  {
   "cell_type": "code",
   "execution_count": 44,
   "metadata": {
    "collapsed": true
   },
   "outputs": [],
   "source": [
    "# Validation"
   ]
  },
  {
   "cell_type": "code",
   "execution_count": 74,
   "metadata": {
    "collapsed": true
   },
   "outputs": [],
   "source": [
    "def regressor_and_predict(df_feat, ground_truth_lat, ground_truth_lng, df_test):\n",
    "    \n",
    "    \n",
    "    model = LinearRegression()\n",
    "    model.fit(np.array(df_feat.iloc[3034:,].replace(np.nan, 0)), np.array(ground_truth_lat.iloc[3034:,]))\n",
    "    y_pred_lat = model.predict(np.array(df_feat.iloc[:3034,].replace(np.nan, 0)))\n",
    "    \n",
    "    # train regressor and make prediction in the train set\n",
    "    # Input: df_feat: feature matrix used to train regressor\n",
    "    #        ground_truth_lat: df_feat associated latitude\n",
    "    #        ground_truth_lng: df_feat associated longitude\n",
    "    #        df_test: data frame used for prediction\n",
    "    # Output: y_pred_lat, y_pred_lng\n",
    "\n",
    "    \n",
    "    return y_pred_lat#, y_pred_lng\n"
   ]
  },
  {
   "cell_type": "code",
   "execution_count": 75,
   "metadata": {
    "collapsed": true
   },
   "outputs": [],
   "source": [
    "pred_lat = regressor_and_predict(df_feat, ground_truth_lat, ground_truth_lng, df_mess_test)"
   ]
  },
  {
   "cell_type": "code",
   "execution_count": 82,
   "metadata": {},
   "outputs": [
    {
     "data": {
      "text/html": [
       "<div>\n",
       "<style scoped>\n",
       "    .dataframe tbody tr th:only-of-type {\n",
       "        vertical-align: middle;\n",
       "    }\n",
       "\n",
       "    .dataframe tbody tr th {\n",
       "        vertical-align: top;\n",
       "    }\n",
       "\n",
       "    .dataframe thead th {\n",
       "        text-align: right;\n",
       "    }\n",
       "</style>\n",
       "<table border=\"1\" class=\"dataframe\">\n",
       "  <thead>\n",
       "    <tr style=\"text-align: right;\">\n",
       "      <th></th>\n",
       "      <th>0</th>\n",
       "    </tr>\n",
       "    <tr>\n",
       "      <th>lat</th>\n",
       "      <th></th>\n",
       "    </tr>\n",
       "  </thead>\n",
       "  <tbody>\n",
       "    <tr>\n",
       "      <th>39.606690</th>\n",
       "      <td>3.973100e+01</td>\n",
       "    </tr>\n",
       "    <tr>\n",
       "      <th>39.637741</th>\n",
       "      <td>3.974262e+01</td>\n",
       "    </tr>\n",
       "    <tr>\n",
       "      <th>39.730417</th>\n",
       "      <td>3.872040e+09</td>\n",
       "    </tr>\n",
       "    <tr>\n",
       "      <th>39.693102</th>\n",
       "      <td>3.970553e+01</td>\n",
       "    </tr>\n",
       "    <tr>\n",
       "      <th>39.758167</th>\n",
       "      <td>9.299444e+09</td>\n",
       "    </tr>\n",
       "    <tr>\n",
       "      <th>39.753402</th>\n",
       "      <td>3.965702e+01</td>\n",
       "    </tr>\n",
       "    <tr>\n",
       "      <th>39.752205</th>\n",
       "      <td>3.725372e+09</td>\n",
       "    </tr>\n",
       "    <tr>\n",
       "      <th>39.658836</th>\n",
       "      <td>3.974193e+01</td>\n",
       "    </tr>\n",
       "    <tr>\n",
       "      <th>39.750828</th>\n",
       "      <td>3.334257e+09</td>\n",
       "    </tr>\n",
       "    <tr>\n",
       "      <th>39.789725</th>\n",
       "      <td>3.978473e+01</td>\n",
       "    </tr>\n",
       "    <tr>\n",
       "      <th>39.823482</th>\n",
       "      <td>3.980292e+01</td>\n",
       "    </tr>\n",
       "    <tr>\n",
       "      <th>39.729119</th>\n",
       "      <td>3.977288e+01</td>\n",
       "    </tr>\n",
       "    <tr>\n",
       "      <th>39.636387</th>\n",
       "      <td>3.978001e+01</td>\n",
       "    </tr>\n",
       "    <tr>\n",
       "      <th>39.610840</th>\n",
       "      <td>3.973424e+01</td>\n",
       "    </tr>\n",
       "    <tr>\n",
       "      <th>39.610485</th>\n",
       "      <td>3.974280e+01</td>\n",
       "    </tr>\n",
       "    <tr>\n",
       "      <th>39.817275</th>\n",
       "      <td>3.979593e+01</td>\n",
       "    </tr>\n",
       "    <tr>\n",
       "      <th>39.819390</th>\n",
       "      <td>3.980981e+01</td>\n",
       "    </tr>\n",
       "    <tr>\n",
       "      <th>39.613288</th>\n",
       "      <td>3.975544e+01</td>\n",
       "    </tr>\n",
       "    <tr>\n",
       "      <th>39.806913</th>\n",
       "      <td>3.813373e+09</td>\n",
       "    </tr>\n",
       "    <tr>\n",
       "      <th>39.823802</th>\n",
       "      <td>5.180651e+09</td>\n",
       "    </tr>\n",
       "    <tr>\n",
       "      <th>39.827456</th>\n",
       "      <td>3.930708e+09</td>\n",
       "    </tr>\n",
       "    <tr>\n",
       "      <th>39.816536</th>\n",
       "      <td>8.022603e+09</td>\n",
       "    </tr>\n",
       "    <tr>\n",
       "      <th>39.693393</th>\n",
       "      <td>3.968376e+01</td>\n",
       "    </tr>\n",
       "    <tr>\n",
       "      <th>39.792368</th>\n",
       "      <td>9.077560e+09</td>\n",
       "    </tr>\n",
       "    <tr>\n",
       "      <th>39.784936</th>\n",
       "      <td>2.259369e+08</td>\n",
       "    </tr>\n",
       "    <tr>\n",
       "      <th>39.778799</th>\n",
       "      <td>7.702528e+08</td>\n",
       "    </tr>\n",
       "    <tr>\n",
       "      <th>39.770926</th>\n",
       "      <td>3.520037e+09</td>\n",
       "    </tr>\n",
       "    <tr>\n",
       "      <th>39.743481</th>\n",
       "      <td>3.978939e+01</td>\n",
       "    </tr>\n",
       "    <tr>\n",
       "      <th>39.727904</th>\n",
       "      <td>3.813373e+09</td>\n",
       "    </tr>\n",
       "    <tr>\n",
       "      <th>39.784138</th>\n",
       "      <td>1.240149e+10</td>\n",
       "    </tr>\n",
       "    <tr>\n",
       "      <th>...</th>\n",
       "      <td>...</td>\n",
       "    </tr>\n",
       "    <tr>\n",
       "      <th>39.718240</th>\n",
       "      <td>3.962737e+01</td>\n",
       "    </tr>\n",
       "    <tr>\n",
       "      <th>39.691376</th>\n",
       "      <td>3.973557e+01</td>\n",
       "    </tr>\n",
       "    <tr>\n",
       "      <th>39.692762</th>\n",
       "      <td>3.962892e+01</td>\n",
       "    </tr>\n",
       "    <tr>\n",
       "      <th>39.804889</th>\n",
       "      <td>3.981597e+01</td>\n",
       "    </tr>\n",
       "    <tr>\n",
       "      <th>39.804987</th>\n",
       "      <td>3.980791e+01</td>\n",
       "    </tr>\n",
       "    <tr>\n",
       "      <th>39.734814</th>\n",
       "      <td>3.976758e+01</td>\n",
       "    </tr>\n",
       "    <tr>\n",
       "      <th>39.734879</th>\n",
       "      <td>3.978598e+01</td>\n",
       "    </tr>\n",
       "    <tr>\n",
       "      <th>39.748609</th>\n",
       "      <td>3.977167e+01</td>\n",
       "    </tr>\n",
       "    <tr>\n",
       "      <th>39.760725</th>\n",
       "      <td>3.977998e+01</td>\n",
       "    </tr>\n",
       "    <tr>\n",
       "      <th>39.767352</th>\n",
       "      <td>3.978927e+01</td>\n",
       "    </tr>\n",
       "    <tr>\n",
       "      <th>39.805075</th>\n",
       "      <td>3.981600e+01</td>\n",
       "    </tr>\n",
       "    <tr>\n",
       "      <th>39.734991</th>\n",
       "      <td>3.974856e+01</td>\n",
       "    </tr>\n",
       "    <tr>\n",
       "      <th>39.735439</th>\n",
       "      <td>3.977055e+01</td>\n",
       "    </tr>\n",
       "    <tr>\n",
       "      <th>39.794970</th>\n",
       "      <td>3.979660e+01</td>\n",
       "    </tr>\n",
       "    <tr>\n",
       "      <th>39.756226</th>\n",
       "      <td>3.980158e+01</td>\n",
       "    </tr>\n",
       "    <tr>\n",
       "      <th>39.764586</th>\n",
       "      <td>3.979751e+01</td>\n",
       "    </tr>\n",
       "    <tr>\n",
       "      <th>39.753564</th>\n",
       "      <td>3.978927e+01</td>\n",
       "    </tr>\n",
       "    <tr>\n",
       "      <th>39.734411</th>\n",
       "      <td>3.972108e+01</td>\n",
       "    </tr>\n",
       "    <tr>\n",
       "      <th>39.745986</th>\n",
       "      <td>3.971836e+01</td>\n",
       "    </tr>\n",
       "    <tr>\n",
       "      <th>39.658980</th>\n",
       "      <td>3.974308e+01</td>\n",
       "    </tr>\n",
       "    <tr>\n",
       "      <th>39.747501</th>\n",
       "      <td>3.972533e+01</td>\n",
       "    </tr>\n",
       "    <tr>\n",
       "      <th>39.619927</th>\n",
       "      <td>3.979664e+01</td>\n",
       "    </tr>\n",
       "    <tr>\n",
       "      <th>39.584031</th>\n",
       "      <td>3.954918e+01</td>\n",
       "    </tr>\n",
       "    <tr>\n",
       "      <th>39.700557</th>\n",
       "      <td>3.976956e+01</td>\n",
       "    </tr>\n",
       "    <tr>\n",
       "      <th>39.534869</th>\n",
       "      <td>3.959079e+01</td>\n",
       "    </tr>\n",
       "    <tr>\n",
       "      <th>39.753955</th>\n",
       "      <td>3.976824e+01</td>\n",
       "    </tr>\n",
       "    <tr>\n",
       "      <th>39.762021</th>\n",
       "      <td>3.978771e+01</td>\n",
       "    </tr>\n",
       "    <tr>\n",
       "      <th>39.732474</th>\n",
       "      <td>3.977031e+01</td>\n",
       "    </tr>\n",
       "    <tr>\n",
       "      <th>39.760463</th>\n",
       "      <td>3.973754e+01</td>\n",
       "    </tr>\n",
       "    <tr>\n",
       "      <th>39.760190</th>\n",
       "      <td>3.976652e+01</td>\n",
       "    </tr>\n",
       "  </tbody>\n",
       "</table>\n",
       "<p>3034 rows × 1 columns</p>\n",
       "</div>"
      ],
      "text/plain": [
       "                      0\n",
       "lat                    \n",
       "39.606690  3.973100e+01\n",
       "39.637741  3.974262e+01\n",
       "39.730417  3.872040e+09\n",
       "39.693102  3.970553e+01\n",
       "39.758167  9.299444e+09\n",
       "39.753402  3.965702e+01\n",
       "39.752205  3.725372e+09\n",
       "39.658836  3.974193e+01\n",
       "39.750828  3.334257e+09\n",
       "39.789725  3.978473e+01\n",
       "39.823482  3.980292e+01\n",
       "39.729119  3.977288e+01\n",
       "39.636387  3.978001e+01\n",
       "39.610840  3.973424e+01\n",
       "39.610485  3.974280e+01\n",
       "39.817275  3.979593e+01\n",
       "39.819390  3.980981e+01\n",
       "39.613288  3.975544e+01\n",
       "39.806913  3.813373e+09\n",
       "39.823802  5.180651e+09\n",
       "39.827456  3.930708e+09\n",
       "39.816536  8.022603e+09\n",
       "39.693393  3.968376e+01\n",
       "39.792368  9.077560e+09\n",
       "39.784936  2.259369e+08\n",
       "39.778799  7.702528e+08\n",
       "39.770926  3.520037e+09\n",
       "39.743481  3.978939e+01\n",
       "39.727904  3.813373e+09\n",
       "39.784138  1.240149e+10\n",
       "...                 ...\n",
       "39.718240  3.962737e+01\n",
       "39.691376  3.973557e+01\n",
       "39.692762  3.962892e+01\n",
       "39.804889  3.981597e+01\n",
       "39.804987  3.980791e+01\n",
       "39.734814  3.976758e+01\n",
       "39.734879  3.978598e+01\n",
       "39.748609  3.977167e+01\n",
       "39.760725  3.977998e+01\n",
       "39.767352  3.978927e+01\n",
       "39.805075  3.981600e+01\n",
       "39.734991  3.974856e+01\n",
       "39.735439  3.977055e+01\n",
       "39.794970  3.979660e+01\n",
       "39.756226  3.980158e+01\n",
       "39.764586  3.979751e+01\n",
       "39.753564  3.978927e+01\n",
       "39.734411  3.972108e+01\n",
       "39.745986  3.971836e+01\n",
       "39.658980  3.974308e+01\n",
       "39.747501  3.972533e+01\n",
       "39.619927  3.979664e+01\n",
       "39.584031  3.954918e+01\n",
       "39.700557  3.976956e+01\n",
       "39.534869  3.959079e+01\n",
       "39.753955  3.976824e+01\n",
       "39.762021  3.978771e+01\n",
       "39.732474  3.977031e+01\n",
       "39.760463  3.973754e+01\n",
       "39.760190  3.976652e+01\n",
       "\n",
       "[3034 rows x 1 columns]"
      ]
     },
     "execution_count": 82,
     "metadata": {},
     "output_type": "execute_result"
    }
   ],
   "source": [
    "pd.DataFrame(pred_lat, ground_truth_lat.iloc[:3034,])"
   ]
  },
  {
   "cell_type": "code",
   "execution_count": 81,
   "metadata": {},
   "outputs": [
    {
     "data": {
      "text/plain": [
       "<matplotlib.collections.PathCollection at 0x7f88d25ebe48>"
      ]
     },
     "execution_count": 81,
     "metadata": {},
     "output_type": "execute_result"
    },
    {
     "data": {
      "image/png": "[encoded data removed]",
      "text/plain": [
       "<matplotlib.figure.Figure at 0x7f88de964a20>"
      ]
     },
     "metadata": {},
     "output_type": "display_data"
    }
   ],
   "source": [
    "plt.scatter(pred_lat, ground_truth_lat.iloc[:3034,])\n"
   ]
  },
  {
   "cell_type": "code",
   "execution_count": 134,
   "metadata": {
    "collapsed": true
   },
   "outputs": [],
   "source": [
    "# Make regressor and prediction using the train set"
   ]
  },
  {
   "cell_type": "code",
   "execution_count": 146,
   "metadata": {
    "collapsed": true
   },
   "outputs": [],
   "source": [
    "y_pred_lat, y_pred_lng = regressor_and_predict(df_feat, ground_truth_lat, ground_truth_lng, df_feat)"
   ]
  },
  {
   "cell_type": "code",
   "execution_count": null,
   "metadata": {
    "collapsed": true
   },
   "outputs": [],
   "source": []
  },
  {
   "cell_type": "code",
   "execution_count": 136,
   "metadata": {
    "collapsed": true
   },
   "outputs": [],
   "source": [
    "# Cross validation"
   ]
  },
  {
   "cell_type": "code",
   "execution_count": null,
   "metadata": {
    "collapsed": true
   },
   "outputs": [],
   "source": []
  },
  {
   "cell_type": "code",
   "execution_count": 139,
   "metadata": {
    "collapsed": true
   },
   "outputs": [],
   "source": [
    "# Evaluate result"
   ]
  },
  {
   "cell_type": "code",
   "execution_count": 140,
   "metadata": {
    "collapsed": true
   },
   "outputs": [],
   "source": [
    "def vincenty_vec(vec_coord):\n",
    "    vin_vec_dist = np.zeros(vec_coord.shape[0])\n",
    "    if vec_coord.shape[1] !=  4:\n",
    "        print('ERROR: Bad number of columns (shall be = 4)')\n",
    "    else:\n",
    "        vin_vec_dist = [vincenty(vec_coord[m,0:2],vec_coord[m,2:]).meters for m in range(vec_coord.shape[0])]\n",
    "    return vin_vec_dist"
   ]
  },
  {
   "cell_type": "code",
   "execution_count": 141,
   "metadata": {
    "collapsed": true
   },
   "outputs": [],
   "source": [
    "# evaluate distance error for each predicted point\n",
    "def Eval_geoloc(y_train_lat , y_train_lng, y_pred_lat, y_pred_lng):\n",
    "    vec_coord = np.array([y_train_lat , y_train_lng, y_pred_lat, y_pred_lng])\n",
    "    err_vec = vincenty_vec(np.transpose(vec_coord))\n",
    "    \n",
    "    return err_vec"
   ]
  },
  {
   "cell_type": "code",
   "execution_count": 147,
   "metadata": {
    "collapsed": true
   },
   "outputs": [],
   "source": [
    "err_vec = Eval_geoloc(ground_truth_lat , ground_truth_lng, y_pred_lat, y_pred_lng)"
   ]
  },
  {
   "cell_type": "code",
   "execution_count": null,
   "metadata": {
    "collapsed": true
   },
   "outputs": [],
   "source": []
  },
  {
   "cell_type": "code",
   "execution_count": 148,
   "metadata": {
    "collapsed": true
   },
   "outputs": [],
   "source": [
    "# Plot error distribution"
   ]
  },
  {
   "cell_type": "code",
   "execution_count": 149,
   "metadata": {},
   "outputs": [
    {
     "data": {
      "text/plain": [
       "<matplotlib.legend.Legend at 0x121e7d30>"
      ]
     },
     "execution_count": 149,
     "metadata": {},
     "output_type": "execute_result"
    },
    {
     "data": {
      "image/png": "[encoded data removed]",
      "text/plain": [
       "<matplotlib.figure.Figure at 0x115a70f0>"
      ]
     },
     "metadata": {},
     "output_type": "display_data"
    }
   ],
   "source": [
    "values, base = np.histogram(err_vec, bins=50000)\n",
    "cumulative = np.cumsum(values) \n",
    "plt.figure();\n",
    "plt.plot(base[:-1]/1000, cumulative / np.float(np.sum(values))  * 100.0, c='blue')\n",
    "plt.grid(); plt.xlabel('Distance Error (km)'); plt.ylabel('Cum proba (%)'); plt.axis([0, 30, 0, 100]); \n",
    "plt.title('Error Cumulative Probability'); plt.legend( [\"Opt LLR\", \"LLR 95\", \"LLR 99\"])"
   ]
  },
  {
   "cell_type": "code",
   "execution_count": 150,
   "metadata": {},
   "outputs": [
    {
     "data": {
      "text/plain": [
       "7522.0667120795024"
      ]
     },
     "execution_count": 150,
     "metadata": {},
     "output_type": "execute_result"
    }
   ],
   "source": [
    "# Error criterion\n",
    "\n",
    "np.percentile(err_vec, 80)"
   ]
  },
  {
   "cell_type": "code",
   "execution_count": null,
   "metadata": {
    "collapsed": true
   },
   "outputs": [],
   "source": []
  },
  {
   "cell_type": "code",
   "execution_count": 151,
   "metadata": {
    "collapsed": true
   },
   "outputs": [],
   "source": [
    "# Construct test prediction"
   ]
  },
  {
   "cell_type": "code",
   "execution_count": 152,
   "metadata": {},
   "outputs": [
    {
     "data": {
      "text/html": [
       "<div>\n",
       "<table border=\"1\" class=\"dataframe\">\n",
       "  <thead>\n",
       "    <tr style=\"text-align: right;\">\n",
       "      <th></th>\n",
       "      <th>objid</th>\n",
       "      <th>bsid</th>\n",
       "      <th>did</th>\n",
       "      <th>nseq</th>\n",
       "      <th>rssi</th>\n",
       "      <th>time_ux</th>\n",
       "      <th>bs_lat</th>\n",
       "      <th>bs_lng</th>\n",
       "    </tr>\n",
       "  </thead>\n",
       "  <tbody>\n",
       "    <tr>\n",
       "      <th>0</th>\n",
       "      <td>573be2503e952e191262c351</td>\n",
       "      <td>3578</td>\n",
       "      <td>116539</td>\n",
       "      <td>2</td>\n",
       "      <td>-111</td>\n",
       "      <td>1.463542e+12</td>\n",
       "      <td>39.728651</td>\n",
       "      <td>-105.163032</td>\n",
       "    </tr>\n",
       "    <tr>\n",
       "      <th>1</th>\n",
       "      <td>573c05f83e952e1912758013</td>\n",
       "      <td>2617</td>\n",
       "      <td>472504</td>\n",
       "      <td>0</td>\n",
       "      <td>-136</td>\n",
       "      <td>1.463551e+12</td>\n",
       "      <td>39.779908</td>\n",
       "      <td>-105.062479</td>\n",
       "    </tr>\n",
       "    <tr>\n",
       "      <th>2</th>\n",
       "      <td>573c05f83e952e1912758013</td>\n",
       "      <td>3556</td>\n",
       "      <td>472504</td>\n",
       "      <td>0</td>\n",
       "      <td>-127</td>\n",
       "      <td>1.463551e+12</td>\n",
       "      <td>39.780658</td>\n",
       "      <td>-105.053676</td>\n",
       "    </tr>\n",
       "    <tr>\n",
       "      <th>3</th>\n",
       "      <td>573c05f83e952e1912758013</td>\n",
       "      <td>3578</td>\n",
       "      <td>472504</td>\n",
       "      <td>0</td>\n",
       "      <td>-129</td>\n",
       "      <td>1.463551e+12</td>\n",
       "      <td>39.728651</td>\n",
       "      <td>-105.163032</td>\n",
       "    </tr>\n",
       "    <tr>\n",
       "      <th>4</th>\n",
       "      <td>573c05f83e952e1912758013</td>\n",
       "      <td>4058</td>\n",
       "      <td>472504</td>\n",
       "      <td>0</td>\n",
       "      <td>-105</td>\n",
       "      <td>1.463551e+12</td>\n",
       "      <td>39.783211</td>\n",
       "      <td>-105.088747</td>\n",
       "    </tr>\n",
       "  </tbody>\n",
       "</table>\n",
       "</div>"
      ],
      "text/plain": [
       "                      objid  bsid     did  nseq  rssi       time_ux  \\\n",
       "0  573be2503e952e191262c351  3578  116539     2  -111  1.463542e+12   \n",
       "1  573c05f83e952e1912758013  2617  472504     0  -136  1.463551e+12   \n",
       "2  573c05f83e952e1912758013  3556  472504     0  -127  1.463551e+12   \n",
       "3  573c05f83e952e1912758013  3578  472504     0  -129  1.463551e+12   \n",
       "4  573c05f83e952e1912758013  4058  472504     0  -105  1.463551e+12   \n",
       "\n",
       "      bs_lat      bs_lng  \n",
       "0  39.728651 -105.163032  \n",
       "1  39.779908 -105.062479  \n",
       "2  39.780658 -105.053676  \n",
       "3  39.728651 -105.163032  \n",
       "4  39.783211 -105.088747  "
      ]
     },
     "execution_count": 152,
     "metadata": {},
     "output_type": "execute_result"
    }
   ],
   "source": [
    "df_mess_test.head()"
   ]
  },
  {
   "cell_type": "code",
   "execution_count": 153,
   "metadata": {
    "collapsed": true
   },
   "outputs": [],
   "source": [
    "df_feat_test = feat_mat_const(df_mess_test, listOfBs)"
   ]
  },
  {
   "cell_type": "code",
   "execution_count": 154,
   "metadata": {
    "collapsed": true
   },
   "outputs": [],
   "source": [
    "y_pred_lat, y_pred_lng = regressor_and_predict(df_feat, ground_truth_lat, ground_truth_lng, df_feat_test)"
   ]
  },
  {
   "cell_type": "code",
   "execution_count": 155,
   "metadata": {
    "collapsed": true
   },
   "outputs": [],
   "source": [
    "test_res = pd.DataFrame(np.array([y_pred_lat, y_pred_lng]).T, columns = ['lat', 'lng'])"
   ]
  },
  {
   "cell_type": "code",
   "execution_count": 156,
   "metadata": {
    "collapsed": true
   },
   "outputs": [],
   "source": [
    "test_res.to_csv('pred_pos_test_list.csv', index=False)"
   ]
  },
  {
   "cell_type": "code",
   "execution_count": 157,
   "metadata": {},
   "outputs": [
    {
     "data": {
      "text/html": [
       "<div>\n",
       "<table border=\"1\" class=\"dataframe\">\n",
       "  <thead>\n",
       "    <tr style=\"text-align: right;\">\n",
       "      <th></th>\n",
       "      <th>lat</th>\n",
       "      <th>lng</th>\n",
       "    </tr>\n",
       "  </thead>\n",
       "  <tbody>\n",
       "    <tr>\n",
       "      <th>0</th>\n",
       "      <td>39.772921</td>\n",
       "      <td>-105.049617</td>\n",
       "    </tr>\n",
       "    <tr>\n",
       "      <th>1</th>\n",
       "      <td>39.774793</td>\n",
       "      <td>-105.062468</td>\n",
       "    </tr>\n",
       "    <tr>\n",
       "      <th>2</th>\n",
       "      <td>39.678762</td>\n",
       "      <td>-105.012780</td>\n",
       "    </tr>\n",
       "    <tr>\n",
       "      <th>3</th>\n",
       "      <td>39.773710</td>\n",
       "      <td>-105.037452</td>\n",
       "    </tr>\n",
       "    <tr>\n",
       "      <th>4</th>\n",
       "      <td>39.678762</td>\n",
       "      <td>-105.012780</td>\n",
       "    </tr>\n",
       "  </tbody>\n",
       "</table>\n",
       "</div>"
      ],
      "text/plain": [
       "         lat         lng\n",
       "0  39.772921 -105.049617\n",
       "1  39.774793 -105.062468\n",
       "2  39.678762 -105.012780\n",
       "3  39.773710 -105.037452\n",
       "4  39.678762 -105.012780"
      ]
     },
     "execution_count": 157,
     "metadata": {},
     "output_type": "execute_result"
    }
   ],
   "source": [
    "test_res.head()"
   ]
  },
  {
   "cell_type": "code",
   "execution_count": null,
   "metadata": {
    "collapsed": true
   },
   "outputs": [],
   "source": []
  }
 ],
 "metadata": {
  "kernelspec": {
   "display_name": "Python 3",
   "language": "python",
   "name": "python3"
  },
  "language_info": {
   "codemirror_mode": {
    "name": "ipython",
    "version": 3
   },
   "file_extension": ".py",
   "mimetype": "text/x-python",
   "name": "python",
   "nbconvert_exporter": "python",
   "pygments_lexer": "ipython3",
   "version": "3.6.1"
  },
  "varInspector": {
   "cols": {
    "lenName": 16,
    "lenType": 16,
    "lenVar": 40
   },
   "kernels_config": {
    "python": {
     "delete_cmd_postfix": "",
     "delete_cmd_prefix": "del ",
     "library": "var_list.py",
     "varRefreshCmd": "print(var_dic_list())"
    },
    "r": {
     "delete_cmd_postfix": ") ",
     "delete_cmd_prefix": "rm(",
     "library": "var_list.r",
     "varRefreshCmd": "cat(var_dic_list()) "
    }
   },
   "types_to_exclude": [
    "module",
    "function",
    "builtin_function_or_method",
    "instance",
    "_Feature"
   ],
   "window_display": false
  }
 },
 "nbformat": 4,
 "nbformat_minor": 1
}
